{
  "nbformat": 4,
  "nbformat_minor": 0,
  "metadata": {
    "colab": {
      "provenance": []
    },
    "kernelspec": {
      "name": "python3",
      "display_name": "Python 3"
    },
    "language_info": {
      "name": "python"
    }
  },
  "cells": [
    {
      "cell_type": "code",
      "execution_count": null,
      "metadata": {
        "id": "oavTWIx6j4Tx"
      },
      "outputs": [],
      "source": [
        "import nltk"
      ]
    },
    {
      "cell_type": "code",
      "source": [
        "nltk.download('punkt_tab')\n",
        "nltk.download('averaged_perceptron_tagger_eng')\n",
        "nltk.download('averaged_perceptron_tagger') # needed for pos tagging"
      ],
      "metadata": {
        "colab": {
          "base_uri": "https://localhost:8080/"
        },
        "collapsed": true,
        "id": "_Dt3VX5Fksm8",
        "outputId": "fd946ae6-c5ff-4576-ef1c-9505d071a31f"
      },
      "execution_count": null,
      "outputs": [
        {
          "output_type": "stream",
          "name": "stderr",
          "text": [
            "[nltk_data] Downloading package punkt_tab to /root/nltk_data...\n",
            "[nltk_data]   Unzipping tokenizers/punkt_tab.zip.\n",
            "[nltk_data] Downloading package averaged_perceptron_tagger_eng to\n",
            "[nltk_data]     /root/nltk_data...\n",
            "[nltk_data]   Unzipping taggers/averaged_perceptron_tagger_eng.zip.\n",
            "[nltk_data] Downloading package averaged_perceptron_tagger to\n",
            "[nltk_data]     /root/nltk_data...\n",
            "[nltk_data]   Unzipping taggers/averaged_perceptron_tagger.zip.\n"
          ]
        },
        {
          "output_type": "execute_result",
          "data": {
            "text/plain": [
              "True"
            ]
          },
          "metadata": {},
          "execution_count": 2
        }
      ]
    },
    {
      "cell_type": "code",
      "source": [
        "# Sample text\n",
        "text = \"Alice loves painting in the quiet evenings.\""
      ],
      "metadata": {
        "id": "uVJpcbmSlGtk"
      },
      "execution_count": null,
      "outputs": []
    },
    {
      "cell_type": "code",
      "source": [
        "from nltk.tokenize import word_tokenize"
      ],
      "metadata": {
        "id": "78VB45Pslkj9"
      },
      "execution_count": null,
      "outputs": []
    },
    {
      "cell_type": "code",
      "source": [
        "# Tokenize the text\n",
        "tokens = word_tokenize(text)\n",
        "tokens"
      ],
      "metadata": {
        "colab": {
          "base_uri": "https://localhost:8080/"
        },
        "id": "OnhOlYMSl4Um",
        "outputId": "eee21bb2-399c-42ff-d6d7-442fe127aa09"
      },
      "execution_count": null,
      "outputs": [
        {
          "output_type": "execute_result",
          "data": {
            "text/plain": [
              "['Alice', 'loves', 'painting', 'in', 'the', 'quiet', 'evenings', '.']"
            ]
          },
          "metadata": {},
          "execution_count": 5
        }
      ]
    },
    {
      "cell_type": "code",
      "source": [
        "# Use pre-trained POS tagger\n",
        "pos_tags = nltk.pos_tag(tokens)\n",
        "print(pos_tags)"
      ],
      "metadata": {
        "colab": {
          "base_uri": "https://localhost:8080/"
        },
        "id": "lv2PXwSYmDT1",
        "outputId": "b0ecac6c-f080-4810-b64c-c1127699e5ed"
      },
      "execution_count": null,
      "outputs": [
        {
          "output_type": "stream",
          "name": "stdout",
          "text": [
            "[('Alice', 'NNP'), ('loves', 'VBZ'), ('painting', 'VBG'), ('in', 'IN'), ('the', 'DT'), ('quiet', 'JJ'), ('evenings', 'NNS'), ('.', '.')]\n"
          ]
        }
      ]
    },
    {
      "cell_type": "markdown",
      "source": [
        "- NNP: Proper noun, singular\n",
        "- VBZ: 3rd person singular present\n",
        "- VBG: Present participle\n",
        "- IN: Preposition\n",
        "- DT: Determiner\n",
        "- JJ: Adjective\n",
        "- NNS: Plural noun"
      ],
      "metadata": {
        "id": "wuUtqSNlneKt"
      }
    },
    {
      "cell_type": "markdown",
      "source": [
        "- Use pre-trained POS tagger\n",
        "- Customise this pre-trained POS tagger Only"
      ],
      "metadata": {
        "id": "euL9xDw3o73H"
      }
    },
    {
      "cell_type": "code",
      "source": [
        "# Define custom rules\n",
        "def custom_tagger(pos_tags):\n",
        "    modified_tags = []\n",
        "    for word, tag in pos_tags:\n",
        "        # Rule 1: \"painting\" should always be a noun\n",
        "        if word.lower() == \"painting\":\n",
        "            modified_tags.append((word, \"NN\"))\n",
        "        # Rule 2: \"evenings\" should always be singular noun\n",
        "        elif word.lower() == \"evenings\":\n",
        "            modified_tags.append((word, \"NN\"))\n",
        "        else:\n",
        "            # Default case: Use the tag from the pre-trained tagger\n",
        "            modified_tags.append((word, tag))\n",
        "    return modified_tags"
      ],
      "metadata": {
        "id": "4O9-IYnHmKr2"
      },
      "execution_count": null,
      "outputs": []
    },
    {
      "cell_type": "code",
      "source": [
        "# Apply the custom rule-based tagger\n",
        "custom_pos_tags = custom_tagger(pos_tags)\n",
        "print(\"Custom POS Tags:\", custom_pos_tags)"
      ],
      "metadata": {
        "colab": {
          "base_uri": "https://localhost:8080/"
        },
        "id": "7qUX2fc2qRf-",
        "outputId": "4fd9a75b-d9ef-4de6-e5b4-f4a4598968b6"
      },
      "execution_count": null,
      "outputs": [
        {
          "output_type": "stream",
          "name": "stdout",
          "text": [
            "Custom POS Tags: [('Alice', 'NNP'), ('loves', 'VBZ'), ('painting', 'NN'), ('in', 'IN'), ('the', 'DT'), ('quiet', 'JJ'), ('evenings', 'NN'), ('.', '.')]\n"
          ]
        }
      ]
    },
    {
      "cell_type": "code",
      "source": [
        "from nltk.corpus import treebank\n",
        "from nltk.tag import UnigramTagger # Rule Based Tagger"
      ],
      "metadata": {
        "id": "TtUWJi0GqTNV"
      },
      "execution_count": null,
      "outputs": []
    },
    {
      "cell_type": "code",
      "source": [
        "nltk.download('treebank')"
      ],
      "metadata": {
        "collapsed": true,
        "colab": {
          "base_uri": "https://localhost:8080/"
        },
        "id": "TdTLCQhWs6L6",
        "outputId": "94354713-db75-41d2-9f36-8c8db08b5692"
      },
      "execution_count": null,
      "outputs": [
        {
          "output_type": "stream",
          "name": "stderr",
          "text": [
            "[nltk_data] Downloading package treebank to /root/nltk_data...\n",
            "[nltk_data]   Unzipping corpora/treebank.zip.\n"
          ]
        },
        {
          "output_type": "execute_result",
          "data": {
            "text/plain": [
              "True"
            ]
          },
          "metadata": {},
          "execution_count": 10
        }
      ]
    },
    {
      "cell_type": "code",
      "source": [
        "# Load tagged sentences from the Treebank corpus\n",
        "tagged_sentences = treebank.tagged_sents()\n",
        "print(\"Sample Tagged Sentence:\", tagged_sentences[0])"
      ],
      "metadata": {
        "colab": {
          "base_uri": "https://localhost:8080/"
        },
        "id": "lmkmkaFes617",
        "outputId": "33e8d66d-b9d3-4a34-e407-08b682228d66"
      },
      "execution_count": null,
      "outputs": [
        {
          "output_type": "stream",
          "name": "stdout",
          "text": [
            "Sample Tagged Sentence: [('Pierre', 'NNP'), ('Vinken', 'NNP'), (',', ','), ('61', 'CD'), ('years', 'NNS'), ('old', 'JJ'), (',', ','), ('will', 'MD'), ('join', 'VB'), ('the', 'DT'), ('board', 'NN'), ('as', 'IN'), ('a', 'DT'), ('nonexecutive', 'JJ'), ('director', 'NN'), ('Nov.', 'NNP'), ('29', 'CD'), ('.', '.')]\n"
          ]
        }
      ]
    },
    {
      "cell_type": "code",
      "source": [
        "len(tagged_sentences)"
      ],
      "metadata": {
        "colab": {
          "base_uri": "https://localhost:8080/"
        },
        "id": "4u6Xat5ltepe",
        "outputId": "0b6ed7e9-a165-4f66-e0fc-cccee8169455"
      },
      "execution_count": null,
      "outputs": [
        {
          "output_type": "execute_result",
          "data": {
            "text/plain": [
              "3914"
            ]
          },
          "metadata": {},
          "execution_count": 12
        }
      ]
    },
    {
      "cell_type": "code",
      "source": [
        "# Split data into 80% training and 20% testing\n",
        "from sklearn.model_selection import train_test_split\n",
        "train_data, test_data = train_test_split(tagged_sentences, test_size=0.2, random_state=42)\n",
        "\n",
        "print(\"Number of Training Sentences:\", len(train_data))\n",
        "print(\"Number of Testing Sentences:\", len(test_data))"
      ],
      "metadata": {
        "colab": {
          "base_uri": "https://localhost:8080/"
        },
        "id": "7dfdd9cptkTz",
        "outputId": "af148e88-5b9b-4f7a-952f-e56ff989fc17"
      },
      "execution_count": null,
      "outputs": [
        {
          "output_type": "stream",
          "name": "stdout",
          "text": [
            "Number of Training Sentences: 3131\n",
            "Number of Testing Sentences: 783\n"
          ]
        }
      ]
    },
    {
      "cell_type": "markdown",
      "source": [
        "\"painting\" (40) --> NNP: 32\n",
        "                    VBZ: 8\n",
        "Final Prediction --> Painting --> NNP (most frequent tag)"
      ],
      "metadata": {
        "id": "qnheFJzbv00-"
      }
    },
    {
      "cell_type": "code",
      "source": [
        "# Train a Unigram POS Tagger\n",
        "unigram_tagger = UnigramTagger(train_data)"
      ],
      "metadata": {
        "id": "9GKxKr-stufX"
      },
      "execution_count": null,
      "outputs": []
    },
    {
      "cell_type": "code",
      "source": [
        "accuracy = unigram_tagger.evaluate(test_data)\n",
        "print(\"Unigram Tagger Accuracy:\", round(100*accuracy,2),\"%\")"
      ],
      "metadata": {
        "colab": {
          "base_uri": "https://localhost:8080/"
        },
        "collapsed": true,
        "id": "fQWRqe8Y0z6N",
        "outputId": "fa3f6109-0bd1-4ad6-8078-2f15124c186d"
      },
      "execution_count": null,
      "outputs": [
        {
          "output_type": "stream",
          "name": "stdout",
          "text": [
            "Unigram Tagger Accuracy: 88.27 %\n"
          ]
        },
        {
          "output_type": "stream",
          "name": "stderr",
          "text": [
            "<ipython-input-15-c8451570c456>:1: DeprecationWarning: \n",
            "  Function evaluate() has been deprecated.  Use accuracy(gold)\n",
            "  instead.\n",
            "  accuracy = unigram_tagger.evaluate(test_data)\n"
          ]
        }
      ]
    },
    {
      "cell_type": "code",
      "source": [
        "from nltk.tag import BigramTagger"
      ],
      "metadata": {
        "id": "Xp20iDw805xN"
      },
      "execution_count": null,
      "outputs": []
    },
    {
      "cell_type": "code",
      "source": [
        "# Train a Bigram POS Tagger with Unigram Tagger as backoff\n",
        "bigram_tagger = BigramTagger(train_data, backoff=unigram_tagger)"
      ],
      "metadata": {
        "id": "p5CcyLaE2nhf"
      },
      "execution_count": null,
      "outputs": []
    },
    {
      "cell_type": "code",
      "source": [
        "# Evaluate the bigram tagger\n",
        "accuracy = bigram_tagger.evaluate(test_data)\n",
        "print(\"Bigram Tagger Accuracy:\", round(100*accuracy,2),\"%\")"
      ],
      "metadata": {
        "colab": {
          "base_uri": "https://localhost:8080/"
        },
        "id": "Wk_Lv_zv21Tt",
        "outputId": "a715303d-34af-47f7-9008-5a6f41229574"
      },
      "execution_count": null,
      "outputs": [
        {
          "output_type": "stream",
          "name": "stdout",
          "text": [
            "Bigram Tagger Accuracy: 89.12 %\n"
          ]
        },
        {
          "output_type": "stream",
          "name": "stderr",
          "text": [
            "<ipython-input-18-df0f92c585bb>:2: DeprecationWarning: \n",
            "  Function evaluate() has been deprecated.  Use accuracy(gold)\n",
            "  instead.\n",
            "  accuracy = bigram_tagger.evaluate(test_data)\n"
          ]
        }
      ]
    },
    {
      "cell_type": "code",
      "source": [
        "from nltk.tag import TrigramTagger"
      ],
      "metadata": {
        "id": "PvbGHNJs23QW"
      },
      "execution_count": null,
      "outputs": []
    },
    {
      "cell_type": "code",
      "source": [
        "# Train a Trigram POS Tagger with Bigram Tagger as backoff\n",
        "trigram_tagger = TrigramTagger(train_data, backoff=bigram_tagger)"
      ],
      "metadata": {
        "id": "xfKgnP423XT7"
      },
      "execution_count": null,
      "outputs": []
    },
    {
      "cell_type": "code",
      "source": [
        "# Evaluate the Trigram tagger\n",
        "accuracy = trigram_tagger.evaluate(test_data)\n",
        "print(\"Trigram Tagger Accuracy:\",round(100*accuracy,2),\"%\")"
      ],
      "metadata": {
        "colab": {
          "base_uri": "https://localhost:8080/"
        },
        "collapsed": true,
        "id": "MdaER4Ub4DJ9",
        "outputId": "3e1c4c8f-a9cf-4954-fd11-b98d3c1600c4"
      },
      "execution_count": null,
      "outputs": [
        {
          "output_type": "stream",
          "name": "stdout",
          "text": [
            "Trigram Tagger Accuracy: 89.15 %\n"
          ]
        },
        {
          "output_type": "stream",
          "name": "stderr",
          "text": [
            "<ipython-input-21-302c86642a34>:2: DeprecationWarning: \n",
            "  Function evaluate() has been deprecated.  Use accuracy(gold)\n",
            "  instead.\n",
            "  accuracy = trigram_tagger.evaluate(test_data)\n"
          ]
        }
      ]
    },
    {
      "cell_type": "markdown",
      "source": [
        "- Pre-trained models\n",
        "- Pre-trained models + Manual Rule Based Adjustments (This can be done only for few cases) (Customization)\n",
        "- Customised trained models with non-machine learning Logic (Unigram Tagger, Bigram Tagger, Trigram Tagger) - Frequency Based\n",
        "- Customised trained models with machine learning Logic (ClassifierBasedPOSTagger)"
      ],
      "metadata": {
        "id": "Uuqvs_1m5F0L"
      }
    },
    {
      "cell_type": "code",
      "source": [
        "sent=\"The capital of India is New Delhi\""
      ],
      "metadata": {
        "id": "huMcZJ1V4Ew-"
      },
      "execution_count": null,
      "outputs": []
    },
    {
      "cell_type": "code",
      "source": [
        "# Tokenize and tag using the trained tagger\n",
        "tokens = nltk.word_tokenize(sent)"
      ],
      "metadata": {
        "id": "Ci7hIQWc6eG6"
      },
      "execution_count": null,
      "outputs": []
    },
    {
      "cell_type": "code",
      "source": [
        "tags = unigram_tagger.tag(tokens)\n",
        "print(\"Tagged Sentence:\", tags)"
      ],
      "metadata": {
        "colab": {
          "base_uri": "https://localhost:8080/"
        },
        "id": "o-BMLHzV6gJU",
        "outputId": "c664f9e5-d13a-43b6-83fb-f649e62f271c"
      },
      "execution_count": null,
      "outputs": [
        {
          "output_type": "stream",
          "name": "stdout",
          "text": [
            "Tagged Sentence: [('The', 'DT'), ('capital', 'NN'), ('of', 'IN'), ('India', 'NNP'), ('is', 'VBZ'), ('New', 'NNP'), ('Delhi', None)]\n"
          ]
        }
      ]
    },
    {
      "cell_type": "code",
      "source": [
        "for i in tagged_sentences:\n",
        "  for j in i:\n",
        "    if j[0]==\"Delhi\":\n",
        "      print(i)"
      ],
      "metadata": {
        "id": "sfxdd3QF6hwN"
      },
      "execution_count": null,
      "outputs": []
    },
    {
      "cell_type": "code",
      "source": [
        "from nltk.tag.sequential import ClassifierBasedPOSTagger"
      ],
      "metadata": {
        "id": "uXjHvoLh6rN1"
      },
      "execution_count": null,
      "outputs": []
    },
    {
      "cell_type": "code",
      "source": [
        "# Train a Classifier-Based POS Tagger\n",
        "classifier_tagger = ClassifierBasedPOSTagger(train=train_data)"
      ],
      "metadata": {
        "id": "4mcRh3zH7Bio"
      },
      "execution_count": null,
      "outputs": []
    },
    {
      "cell_type": "code",
      "source": [
        "# Evaluate the classifier tagger\n",
        "accuracy = classifier_tagger.evaluate(test_data)\n",
        "print(\"Classifier-Based Tagger Accuracy:\", round(100*accuracy,2),\"%\")"
      ],
      "metadata": {
        "colab": {
          "base_uri": "https://localhost:8080/"
        },
        "collapsed": true,
        "id": "7XPKgkmw7D30",
        "outputId": "0fe61b91-7ce1-43c6-fa71-7ac3750928f1"
      },
      "execution_count": null,
      "outputs": [
        {
          "output_type": "stream",
          "name": "stderr",
          "text": [
            "<ipython-input-28-6f706f5cca5a>:2: DeprecationWarning: \n",
            "  Function evaluate() has been deprecated.  Use accuracy(gold)\n",
            "  instead.\n",
            "  accuracy = classifier_tagger.evaluate(test_data)\n"
          ]
        },
        {
          "output_type": "stream",
          "name": "stdout",
          "text": [
            "Classifier-Based Tagger Accuracy: 93.75 %\n"
          ]
        }
      ]
    },
    {
      "cell_type": "code",
      "source": [
        "tags = classifier_tagger.tag(tokens)\n",
        "print(\"Tagged Sentence:\", tags)"
      ],
      "metadata": {
        "colab": {
          "base_uri": "https://localhost:8080/"
        },
        "id": "QYyh97CZ7Mom",
        "outputId": "7b8b0d34-666e-4eaa-83c0-3ed39861d0c9"
      },
      "execution_count": null,
      "outputs": [
        {
          "output_type": "stream",
          "name": "stdout",
          "text": [
            "Tagged Sentence: [('The', 'DT'), ('capital', 'NN'), ('of', 'IN'), ('India', 'NNP'), ('is', 'VBZ'), ('New', 'NNP'), ('Delhi', 'NNP')]\n"
          ]
        }
      ]
    },
    {
      "cell_type": "code",
      "source": [],
      "metadata": {
        "id": "UCjxgAxM7bCQ"
      },
      "execution_count": null,
      "outputs": []
    }
  ]
}